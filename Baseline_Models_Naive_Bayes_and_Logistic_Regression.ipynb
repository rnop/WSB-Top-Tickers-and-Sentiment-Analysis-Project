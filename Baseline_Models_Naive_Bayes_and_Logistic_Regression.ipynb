{
  "nbformat": 4,
  "nbformat_minor": 0,
  "metadata": {
    "colab": {
      "name": "Baseline Models - Naive Bayes and Logistic Regression.ipynb",
      "provenance": [],
      "collapsed_sections": [],
      "authorship_tag": "ABX9TyNkPhzJ9iZTEN0hk2fuuIpb"
    },
    "kernelspec": {
      "name": "python3",
      "display_name": "Python 3"
    },
    "language_info": {
      "name": "python"
    }
  },
  "cells": [
    {
      "cell_type": "markdown",
      "source": [
        "### Baseline Models - Naive Bayes and Logistic Regression\n",
        "Sentiment Pipelines\n",
        "* Count Vectorizer\n",
        "* TF-IDF Transformer\n",
        "* MultinomialNB/LogisticRegression Model\n",
        "\n",
        "Out-of-Sample Performance (Macro Avg F1-Score)\n",
        "* MultinomialNB - 0.5272\n",
        "* LogisticRegression - 0.5371\n",
        "\n",
        "1-Month Comments Inference Time\n",
        "* MultinomialNB - 0.5341 seconds\n",
        "* LogisticRegression - 0.6245 seconds"
      ],
      "metadata": {
        "id": "OR_VbvD8iELM"
      }
    },
    {
      "cell_type": "code",
      "source": [
        "import pandas as pd\n",
        "df = pd.read_csv('tweets_comments_combined_df.csv')\n",
        "df.info()"
      ],
      "metadata": {
        "colab": {
          "base_uri": "https://localhost:8080/"
        },
        "id": "MScVm6sdShlU",
        "outputId": "5ae373a3-7f8b-4523-c1c3-34d2913622f2"
      },
      "execution_count": null,
      "outputs": [
        {
          "output_type": "stream",
          "name": "stdout",
          "text": [
            "<class 'pandas.core.frame.DataFrame'>\n",
            "RangeIndex: 4300 entries, 0 to 4299\n",
            "Data columns (total 2 columns):\n",
            " #   Column     Non-Null Count  Dtype \n",
            "---  ------     --------------  ----- \n",
            " 0   comment    4300 non-null   object\n",
            " 1   sentiment  4300 non-null   object\n",
            "dtypes: object(2)\n",
            "memory usage: 67.3+ KB\n"
          ]
        }
      ]
    },
    {
      "cell_type": "code",
      "source": [
        "df['sentiment'].value_counts()"
      ],
      "metadata": {
        "colab": {
          "base_uri": "https://localhost:8080/"
        },
        "id": "PlG1EAWSSlFQ",
        "outputId": "99e0d604-6b2b-469f-d2a0-3893ea5f80d7"
      },
      "execution_count": null,
      "outputs": [
        {
          "output_type": "execute_result",
          "data": {
            "text/plain": [
              "positive    1650\n",
              "neutral     1337\n",
              "negative    1313\n",
              "Name: sentiment, dtype: int64"
            ]
          },
          "metadata": {},
          "execution_count": 3
        }
      ]
    },
    {
      "cell_type": "code",
      "source": [
        "from sklearn.pipeline import Pipeline\n",
        "from sklearn.naive_bayes import MultinomialNB\n",
        "from sklearn.feature_extraction.text import CountVectorizer, TfidfTransformer\n",
        "from sklearn.model_selection import train_test_split, GridSearchCV\n",
        "\n",
        "df = pd.read_csv('tweets_comments_combined_df.csv')\n",
        "df['comment'] = df['comment'].str.strip().str.lower()\n",
        "\n",
        "X = df['comment']\n",
        "y = df['sentiment']\n",
        "\n",
        "X_train, X_test, y_train, y_test = train_test_split(X, y, test_size=0.25, random_state=42) \n",
        "\n",
        "text_clf = Pipeline([('vect', CountVectorizer()),\n",
        "                     ('tfidf', TfidfTransformer()),\n",
        "                     ('clf', MultinomialNB())])\n",
        "tuned_parameters = {\n",
        "    'vect__ngram_range': [(1, 1), (1, 2), (2, 2)],\n",
        "    'tfidf__use_idf': (True, False),\n",
        "    'tfidf__norm': ('l1', 'l2'),\n",
        "    'clf__alpha': [1, 1e-1, 1e-2]\n",
        "}\n",
        "\n",
        "from sklearn.metrics import classification_report\n",
        "clf = GridSearchCV(text_clf, tuned_parameters, cv=10)\n",
        "clf.fit(X_train, y_train)\n",
        "\n",
        "print(classification_report(y_test, clf.predict(X_test), digits=4))"
      ],
      "metadata": {
        "colab": {
          "base_uri": "https://localhost:8080/"
        },
        "id": "IjtBwfbQVaJL",
        "outputId": "419b0ef6-5ea9-4d69-c0a5-7aa28e166eee"
      },
      "execution_count": null,
      "outputs": [
        {
          "output_type": "stream",
          "name": "stdout",
          "text": [
            "              precision    recall  f1-score   support\n",
            "\n",
            "    negative     0.5502    0.5045    0.5263       337\n",
            "     neutral     0.5133    0.3602    0.4234       322\n",
            "    positive     0.5593    0.7260    0.6318       416\n",
            "\n",
            "    accuracy                         0.5470      1075\n",
            "   macro avg     0.5409    0.5302    0.5272      1075\n",
            "weighted avg     0.5426    0.5470    0.5363      1075\n",
            "\n"
          ]
        }
      ]
    },
    {
      "cell_type": "code",
      "source": [
        "#1-month Inference\n",
        "inference = pd.read_csv('inference_1month_comments.csv')\n",
        "inference.shape"
      ],
      "metadata": {
        "colab": {
          "base_uri": "https://localhost:8080/"
        },
        "id": "2AS9LxjUyZTt",
        "outputId": "b47dcd16-6504-4f5a-dd93-ef48f27f1289"
      },
      "execution_count": null,
      "outputs": [
        {
          "output_type": "execute_result",
          "data": {
            "text/plain": [
              "(18676, 2)"
            ]
          },
          "metadata": {},
          "execution_count": 26
        }
      ]
    },
    {
      "cell_type": "code",
      "source": [
        "import time\n",
        "t1 = time.perf_counter()\n",
        "\n",
        "clf.predict(inference['comment'])\n",
        "\n",
        "t2 = time.perf_counter()\n",
        "print('time taken to run:',t2-t1)"
      ],
      "metadata": {
        "colab": {
          "base_uri": "https://localhost:8080/"
        },
        "id": "N5OvyXXbxeHm",
        "outputId": "5a9783ab-9119-482a-9ccc-489fe1667f50"
      },
      "execution_count": null,
      "outputs": [
        {
          "output_type": "stream",
          "name": "stdout",
          "text": [
            "time taken to run: 0.5341051159999779\n"
          ]
        }
      ]
    },
    {
      "cell_type": "code",
      "source": [
        ""
      ],
      "metadata": {
        "id": "eggN-t3Hxd8u"
      },
      "execution_count": null,
      "outputs": []
    },
    {
      "cell_type": "code",
      "source": [
        "from sklearn.pipeline import Pipeline\n",
        "from sklearn.linear_model import LogisticRegression\n",
        "from sklearn.feature_extraction.text import CountVectorizer, TfidfTransformer\n",
        "from sklearn.model_selection import train_test_split, GridSearchCV\n",
        "from scipy.stats import loguniform\n",
        "\n",
        "df = pd.read_csv('tweets_comments_combined_df.csv')\n",
        "df['comment'] = df['comment'].str.strip().str.lower()\n",
        "\n",
        "X = df['comment']\n",
        "y = df['sentiment']\n",
        "\n",
        "X_train, X_test, y_train, y_test = train_test_split(X, y, test_size=0.25, random_state=42) \n",
        "\n",
        "log_regtext_clf = Pipeline([('vect', CountVectorizer()),\n",
        "                     ('tfidf', TfidfTransformer()),\n",
        "                     ('clf', LogisticRegression(solver='liblinear'))])\n",
        "tuned_parameters = {\n",
        "    'vect__ngram_range': [(1, 1), (1, 2), (2, 2)],\n",
        "    'tfidf__use_idf': (True, False),\n",
        "    'tfidf__norm': ('l1', 'l2'),\n",
        "    'clf__C': [1e-5, 1e-3, 1, 10, 100]\n",
        "}\n",
        "\n",
        "from sklearn.metrics import classification_report\n",
        "logreg_clf = GridSearchCV(log_regtext_clf, tuned_parameters, cv=10)\n",
        "logreg_clf.fit(X_train, y_train)\n",
        "\n",
        "print(classification_report(y_test, logreg_clf.predict(X_test), digits=4))"
      ],
      "metadata": {
        "colab": {
          "base_uri": "https://localhost:8080/"
        },
        "id": "CzmpiNiPVaGc",
        "outputId": "83e70b02-0a3e-4921-d3ad-0fb399cd055f"
      },
      "execution_count": null,
      "outputs": [
        {
          "output_type": "stream",
          "name": "stdout",
          "text": [
            "              precision    recall  f1-score   support\n",
            "\n",
            "    negative     0.5439    0.4777    0.5087       337\n",
            "     neutral     0.5139    0.4596    0.4852       322\n",
            "    positive     0.5703    0.6731    0.6174       416\n",
            "\n",
            "    accuracy                         0.5479      1075\n",
            "   macro avg     0.5427    0.5368    0.5371      1075\n",
            "weighted avg     0.5451    0.5479    0.5437      1075\n",
            "\n"
          ]
        }
      ]
    },
    {
      "cell_type": "code",
      "source": [
        "import time\n",
        "t1 = time.perf_counter()\n",
        "\n",
        "logreg_clf.predict(inference['comment'])\n",
        "\n",
        "t2 = time.perf_counter()\n",
        "print('time taken to run:',t2-t1)"
      ],
      "metadata": {
        "id": "2FeWlO6gU2aH",
        "colab": {
          "base_uri": "https://localhost:8080/"
        },
        "outputId": "34867a55-2991-4f43-d2cb-66825e244fb6"
      },
      "execution_count": null,
      "outputs": [
        {
          "output_type": "stream",
          "name": "stdout",
          "text": [
            "time taken to run: 0.6244980620000433\n"
          ]
        }
      ]
    },
    {
      "cell_type": "code",
      "source": [
        ""
      ],
      "metadata": {
        "id": "ztzo9lfpysa0"
      },
      "execution_count": null,
      "outputs": []
    }
  ]
}
