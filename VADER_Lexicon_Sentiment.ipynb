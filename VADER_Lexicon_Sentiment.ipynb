{
  "nbformat": 4,
  "nbformat_minor": 0,
  "metadata": {
    "colab": {
      "name": "VADER Lexicon Sentiment.ipynb",
      "provenance": [],
      "collapsed_sections": [],
      "authorship_tag": "ABX9TyN61oDArtCgq4rd6p9/1WZn"
    },
    "kernelspec": {
      "name": "python3",
      "display_name": "Python 3"
    },
    "language_info": {
      "name": "python"
    }
  },
  "cells": [
    {
      "cell_type": "markdown",
      "source": [
        "### VADER Lexicon Models\n",
        "\n",
        "Out-of-Sample Performance (Macro Avg F1-Score)\n",
        "* Fine-tuned VADER - 0.5600\n",
        "* Untuned VADER - 0.4900"
      ],
      "metadata": {
        "id": "3qoOVZcjowkk"
      }
    },
    {
      "cell_type": "code",
      "execution_count": null,
      "metadata": {
        "id": "YEElSCckzuA0"
      },
      "outputs": [],
      "source": [
        "import pandas as pd"
      ]
    },
    {
      "cell_type": "code",
      "source": [
        "df = pd.read_csv('tweets_comments_combined_df.csv')\n",
        "df.info()"
      ],
      "metadata": {
        "colab": {
          "base_uri": "https://localhost:8080/"
        },
        "id": "VCzfavZvz1cf",
        "outputId": "15acbc69-a855-4eb3-9e04-34413fde895b"
      },
      "execution_count": null,
      "outputs": [
        {
          "output_type": "stream",
          "name": "stdout",
          "text": [
            "<class 'pandas.core.frame.DataFrame'>\n",
            "RangeIndex: 4300 entries, 0 to 4299\n",
            "Data columns (total 2 columns):\n",
            " #   Column     Non-Null Count  Dtype \n",
            "---  ------     --------------  ----- \n",
            " 0   comment    4300 non-null   object\n",
            " 1   sentiment  4300 non-null   object\n",
            "dtypes: object(2)\n",
            "memory usage: 67.3+ KB\n"
          ]
        }
      ]
    },
    {
      "cell_type": "code",
      "source": [
        "df.head()"
      ],
      "metadata": {
        "colab": {
          "base_uri": "https://localhost:8080/",
          "height": 206
        },
        "id": "WGviCgipz41k",
        "outputId": "d36aff7f-221e-4cb6-d76c-23693b634d2e"
      },
      "execution_count": null,
      "outputs": [
        {
          "output_type": "execute_result",
          "data": {
            "text/plain": [
              "                                             comment sentiment\n",
              "0  Come on you battery obsessed retards I want to...   neutral\n",
              "1  Selling my Amazon, Nvidia and amd shares to al...   neutral\n",
              "2  Texas basically opening May 1st, schools close...  negative\n",
              "3  I need LeBron to dunk on someone’s face right ...   neutral\n",
              "4  PLTR either forming a nice bull flag or it’s a...   neutral"
            ],
            "text/html": [
              "\n",
              "  <div id=\"df-c4c6215c-e5c1-4b5d-a983-8c17f71d012c\">\n",
              "    <div class=\"colab-df-container\">\n",
              "      <div>\n",
              "<style scoped>\n",
              "    .dataframe tbody tr th:only-of-type {\n",
              "        vertical-align: middle;\n",
              "    }\n",
              "\n",
              "    .dataframe tbody tr th {\n",
              "        vertical-align: top;\n",
              "    }\n",
              "\n",
              "    .dataframe thead th {\n",
              "        text-align: right;\n",
              "    }\n",
              "</style>\n",
              "<table border=\"1\" class=\"dataframe\">\n",
              "  <thead>\n",
              "    <tr style=\"text-align: right;\">\n",
              "      <th></th>\n",
              "      <th>comment</th>\n",
              "      <th>sentiment</th>\n",
              "    </tr>\n",
              "  </thead>\n",
              "  <tbody>\n",
              "    <tr>\n",
              "      <th>0</th>\n",
              "      <td>Come on you battery obsessed retards I want to...</td>\n",
              "      <td>neutral</td>\n",
              "    </tr>\n",
              "    <tr>\n",
              "      <th>1</th>\n",
              "      <td>Selling my Amazon, Nvidia and amd shares to al...</td>\n",
              "      <td>neutral</td>\n",
              "    </tr>\n",
              "    <tr>\n",
              "      <th>2</th>\n",
              "      <td>Texas basically opening May 1st, schools close...</td>\n",
              "      <td>negative</td>\n",
              "    </tr>\n",
              "    <tr>\n",
              "      <th>3</th>\n",
              "      <td>I need LeBron to dunk on someone’s face right ...</td>\n",
              "      <td>neutral</td>\n",
              "    </tr>\n",
              "    <tr>\n",
              "      <th>4</th>\n",
              "      <td>PLTR either forming a nice bull flag or it’s a...</td>\n",
              "      <td>neutral</td>\n",
              "    </tr>\n",
              "  </tbody>\n",
              "</table>\n",
              "</div>\n",
              "      <button class=\"colab-df-convert\" onclick=\"convertToInteractive('df-c4c6215c-e5c1-4b5d-a983-8c17f71d012c')\"\n",
              "              title=\"Convert this dataframe to an interactive table.\"\n",
              "              style=\"display:none;\">\n",
              "        \n",
              "  <svg xmlns=\"http://www.w3.org/2000/svg\" height=\"24px\"viewBox=\"0 0 24 24\"\n",
              "       width=\"24px\">\n",
              "    <path d=\"M0 0h24v24H0V0z\" fill=\"none\"/>\n",
              "    <path d=\"M18.56 5.44l.94 2.06.94-2.06 2.06-.94-2.06-.94-.94-2.06-.94 2.06-2.06.94zm-11 1L8.5 8.5l.94-2.06 2.06-.94-2.06-.94L8.5 2.5l-.94 2.06-2.06.94zm10 10l.94 2.06.94-2.06 2.06-.94-2.06-.94-.94-2.06-.94 2.06-2.06.94z\"/><path d=\"M17.41 7.96l-1.37-1.37c-.4-.4-.92-.59-1.43-.59-.52 0-1.04.2-1.43.59L10.3 9.45l-7.72 7.72c-.78.78-.78 2.05 0 2.83L4 21.41c.39.39.9.59 1.41.59.51 0 1.02-.2 1.41-.59l7.78-7.78 2.81-2.81c.8-.78.8-2.07 0-2.86zM5.41 20L4 18.59l7.72-7.72 1.47 1.35L5.41 20z\"/>\n",
              "  </svg>\n",
              "      </button>\n",
              "      \n",
              "  <style>\n",
              "    .colab-df-container {\n",
              "      display:flex;\n",
              "      flex-wrap:wrap;\n",
              "      gap: 12px;\n",
              "    }\n",
              "\n",
              "    .colab-df-convert {\n",
              "      background-color: #E8F0FE;\n",
              "      border: none;\n",
              "      border-radius: 50%;\n",
              "      cursor: pointer;\n",
              "      display: none;\n",
              "      fill: #1967D2;\n",
              "      height: 32px;\n",
              "      padding: 0 0 0 0;\n",
              "      width: 32px;\n",
              "    }\n",
              "\n",
              "    .colab-df-convert:hover {\n",
              "      background-color: #E2EBFA;\n",
              "      box-shadow: 0px 1px 2px rgba(60, 64, 67, 0.3), 0px 1px 3px 1px rgba(60, 64, 67, 0.15);\n",
              "      fill: #174EA6;\n",
              "    }\n",
              "\n",
              "    [theme=dark] .colab-df-convert {\n",
              "      background-color: #3B4455;\n",
              "      fill: #D2E3FC;\n",
              "    }\n",
              "\n",
              "    [theme=dark] .colab-df-convert:hover {\n",
              "      background-color: #434B5C;\n",
              "      box-shadow: 0px 1px 3px 1px rgba(0, 0, 0, 0.15);\n",
              "      filter: drop-shadow(0px 1px 2px rgba(0, 0, 0, 0.3));\n",
              "      fill: #FFFFFF;\n",
              "    }\n",
              "  </style>\n",
              "\n",
              "      <script>\n",
              "        const buttonEl =\n",
              "          document.querySelector('#df-c4c6215c-e5c1-4b5d-a983-8c17f71d012c button.colab-df-convert');\n",
              "        buttonEl.style.display =\n",
              "          google.colab.kernel.accessAllowed ? 'block' : 'none';\n",
              "\n",
              "        async function convertToInteractive(key) {\n",
              "          const element = document.querySelector('#df-c4c6215c-e5c1-4b5d-a983-8c17f71d012c');\n",
              "          const dataTable =\n",
              "            await google.colab.kernel.invokeFunction('convertToInteractive',\n",
              "                                                     [key], {});\n",
              "          if (!dataTable) return;\n",
              "\n",
              "          const docLinkHtml = 'Like what you see? Visit the ' +\n",
              "            '<a target=\"_blank\" href=https://colab.research.google.com/notebooks/data_table.ipynb>data table notebook</a>'\n",
              "            + ' to learn more about interactive tables.';\n",
              "          element.innerHTML = '';\n",
              "          dataTable['output_type'] = 'display_data';\n",
              "          await google.colab.output.renderOutput(dataTable, element);\n",
              "          const docLink = document.createElement('div');\n",
              "          docLink.innerHTML = docLinkHtml;\n",
              "          element.appendChild(docLink);\n",
              "        }\n",
              "      </script>\n",
              "    </div>\n",
              "  </div>\n",
              "  "
            ]
          },
          "metadata": {},
          "execution_count": 3
        }
      ]
    },
    {
      "cell_type": "code",
      "source": [
        "df['sentiment'].value_counts()"
      ],
      "metadata": {
        "colab": {
          "base_uri": "https://localhost:8080/"
        },
        "id": "joOwLL0pz9Sh",
        "outputId": "fd44ab83-8ed8-4e91-c1d1-b83857aceef0"
      },
      "execution_count": null,
      "outputs": [
        {
          "output_type": "execute_result",
          "data": {
            "text/plain": [
              "positive    1650\n",
              "neutral     1337\n",
              "negative    1313\n",
              "Name: sentiment, dtype: int64"
            ]
          },
          "metadata": {},
          "execution_count": 4
        }
      ]
    },
    {
      "cell_type": "code",
      "source": [
        "! pip install vaderSentiment"
      ],
      "metadata": {
        "colab": {
          "base_uri": "https://localhost:8080/"
        },
        "id": "Haq48kYgz_gw",
        "outputId": "61902875-0d06-478b-c975-c42ff5ea9af9"
      },
      "execution_count": null,
      "outputs": [
        {
          "output_type": "stream",
          "name": "stdout",
          "text": [
            "Collecting vaderSentiment\n",
            "  Downloading vaderSentiment-3.3.2-py2.py3-none-any.whl (125 kB)\n",
            "\u001b[?25l\r\u001b[K     |██▋                             | 10 kB 19.6 MB/s eta 0:00:01\r\u001b[K     |█████▏                          | 20 kB 28.1 MB/s eta 0:00:01\r\u001b[K     |███████▉                        | 30 kB 17.8 MB/s eta 0:00:01\r\u001b[K     |██████████▍                     | 40 kB 12.3 MB/s eta 0:00:01\r\u001b[K     |█████████████                   | 51 kB 9.6 MB/s eta 0:00:01\r\u001b[K     |███████████████▋                | 61 kB 11.3 MB/s eta 0:00:01\r\u001b[K     |██████████████████▏             | 71 kB 11.8 MB/s eta 0:00:01\r\u001b[K     |████████████████████▉           | 81 kB 11.8 MB/s eta 0:00:01\r\u001b[K     |███████████████████████▍        | 92 kB 12.7 MB/s eta 0:00:01\r\u001b[K     |██████████████████████████      | 102 kB 13.0 MB/s eta 0:00:01\r\u001b[K     |████████████████████████████▋   | 112 kB 13.0 MB/s eta 0:00:01\r\u001b[K     |███████████████████████████████▏| 122 kB 13.0 MB/s eta 0:00:01\r\u001b[K     |████████████████████████████████| 125 kB 13.0 MB/s \n",
            "\u001b[?25hRequirement already satisfied: requests in /usr/local/lib/python3.7/dist-packages (from vaderSentiment) (2.23.0)\n",
            "Requirement already satisfied: chardet<4,>=3.0.2 in /usr/local/lib/python3.7/dist-packages (from requests->vaderSentiment) (3.0.4)\n",
            "Requirement already satisfied: certifi>=2017.4.17 in /usr/local/lib/python3.7/dist-packages (from requests->vaderSentiment) (2021.10.8)\n",
            "Requirement already satisfied: idna<3,>=2.5 in /usr/local/lib/python3.7/dist-packages (from requests->vaderSentiment) (2.10)\n",
            "Requirement already satisfied: urllib3!=1.25.0,!=1.25.1,<1.26,>=1.21.1 in /usr/local/lib/python3.7/dist-packages (from requests->vaderSentiment) (1.24.3)\n",
            "Installing collected packages: vaderSentiment\n",
            "Successfully installed vaderSentiment-3.3.2\n"
          ]
        }
      ]
    },
    {
      "cell_type": "code",
      "source": [
        "from vaderSentiment.vaderSentiment import SentimentIntensityAnalyzer\n",
        "\n",
        "# UNTUNED VADER\n",
        "untuned_analyser = SentimentIntensityAnalyzer()\n",
        "\n",
        "# TUNED VADER\n",
        "tuned_analyser = SentimentIntensityAnalyzer()\n",
        "\n",
        "new_words = {'moon': 4.0,'mooning': 4.0, 'long': 3.0, 'short': -3.0,\n",
        "             'call': 4.0, 'calls': 4.0, 'put': -4.0, 'puts': -4.0, \n",
        "             'break': 2.0, 'tendie': 2.0, 'tendies': 1.0, 'overvalued': -3.0, \n",
        "             'undervalued': 3.0, 'buy': 4.0, 'sell': -4.0, 'gone': -2.0, 'gtfo': -1.7, \n",
        "             'bullish': 3.7, 'bearish': -3.7, 'bull': 3.7, 'hold':4.0, 'sell':-4.0, 'buying':4.0, 'selling':-4.0,\n",
        "             'bear': -3.7, 'down': -4.0, 'sold': -2.0,\n",
        "             'bagholder': -3.0, 'stonk': 2.4, 'green': 2.4, 'money': 1.2, \n",
        "             'rocket': 3.0, 'pumping': 2.0, 'pump':2.0, 'pamp':2.0,\n",
        "             'sus': -3.0, 'rip': -4.0, 'rope':-3.0,\n",
        "             'downgrade': -3.0, 'upgrade': 3.0, 'pump': 2.5, 'hot': 1.5,\n",
        "             'drop': -2.5, 'rebound': 1.5, 'uppies': 3.0, 'downies': -3.0, \n",
        "             '🤡':-3.0, 'clown':-3.0,\n",
        "             '🌈🐻': -3.0, 'rainbow bear':-3.0, 'fire':-2.0,\n",
        "             }\n",
        "\n",
        "tuned_analyser.lexicon.update(new_words)"
      ],
      "metadata": {
        "id": "BJAgul-n4QqW"
      },
      "execution_count": null,
      "outputs": []
    },
    {
      "cell_type": "code",
      "source": [
        "from sklearn.model_selection import train_test_split\n",
        "\n",
        "X = df['comment']\n",
        "y = df['sentiment']\n",
        "\n",
        "X_train, X_test, y_train, y_test = train_test_split(X, y, test_size=0.25, random_state=42) "
      ],
      "metadata": {
        "id": "jb801BHzeFFH"
      },
      "execution_count": null,
      "outputs": []
    },
    {
      "cell_type": "code",
      "source": [
        "y_preds_compound = X_test.apply(lambda x: tuned_analyser.polarity_scores(x)['compound'])\n",
        "y_preds_labels = []\n",
        "threshold=0.07\n",
        "for vader_score in y_preds_compound:\n",
        "  if vader_score > threshold:\n",
        "    y_preds_labels.append('positive')\n",
        "  elif vader_score < -threshold:\n",
        "    y_preds_labels.append('negative')\n",
        "  else:\n",
        "    y_preds_labels.append('neutral')\n",
        "\n",
        "from sklearn.metrics import classification_report\n",
        "print(\"Tuned Vader Sentiment Scores\")\n",
        "print(classification_report(y_test, y_preds_labels))"
      ],
      "metadata": {
        "colab": {
          "base_uri": "https://localhost:8080/"
        },
        "id": "J6j-HKzgedGJ",
        "outputId": "f3ed2b27-dab7-47ee-9971-cffd1fb1a078"
      },
      "execution_count": null,
      "outputs": [
        {
          "output_type": "stream",
          "name": "stdout",
          "text": [
            "Tuned Vader Sentiment Scores\n",
            "              precision    recall  f1-score   support\n",
            "\n",
            "    negative       0.58      0.62      0.60       337\n",
            "     neutral       0.53      0.42      0.47       322\n",
            "    positive       0.57      0.64      0.61       416\n",
            "\n",
            "    accuracy                           0.57      1075\n",
            "   macro avg       0.56      0.56      0.56      1075\n",
            "weighted avg       0.57      0.57      0.56      1075\n",
            "\n"
          ]
        }
      ]
    },
    {
      "cell_type": "code",
      "source": [
        "inference = pd.read_csv('inference_1month_comments.csv')\n",
        "inference.shape"
      ],
      "metadata": {
        "colab": {
          "base_uri": "https://localhost:8080/"
        },
        "id": "vHTwfuIULOlf",
        "outputId": "546856c0-320c-41d2-d0c2-f41e61b1c9c7"
      },
      "execution_count": null,
      "outputs": [
        {
          "output_type": "execute_result",
          "data": {
            "text/plain": [
              "(18676, 2)"
            ]
          },
          "metadata": {},
          "execution_count": 19
        }
      ]
    },
    {
      "cell_type": "code",
      "source": [
        "import time\n",
        "t1 = time.perf_counter()\n",
        "\n",
        "inference_predictions = inference['comment'].apply(lambda x: tuned_analyser.polarity_scores(x)['compound'])\n",
        "\n",
        "t2 = time.perf_counter()\n",
        "print('time taken to run:',t2-t1)"
      ],
      "metadata": {
        "colab": {
          "base_uri": "https://localhost:8080/"
        },
        "id": "U2nxGTtefIZO",
        "outputId": "c325f2f2-870b-4cd7-adb1-5bf464170fb1"
      },
      "execution_count": null,
      "outputs": [
        {
          "output_type": "stream",
          "name": "stdout",
          "text": [
            "time taken to run: 2.397669834000226\n"
          ]
        }
      ]
    },
    {
      "cell_type": "code",
      "source": [
        "len(inference_predictions)\n",
        "inference_predictions[:5]"
      ],
      "metadata": {
        "colab": {
          "base_uri": "https://localhost:8080/"
        },
        "id": "RyysLGisfIXC",
        "outputId": "f00c68bd-3dd1-4a86-b1be-b7e4bd57b9d2"
      },
      "execution_count": null,
      "outputs": [
        {
          "output_type": "execute_result",
          "data": {
            "text/plain": [
              "0    0.9014\n",
              "1    0.5093\n",
              "2   -0.8467\n",
              "3    0.0000\n",
              "4   -0.3182\n",
              "Name: comment, dtype: float64"
            ]
          },
          "metadata": {},
          "execution_count": 23
        }
      ]
    },
    {
      "cell_type": "code",
      "source": [
        ""
      ],
      "metadata": {
        "id": "mxbyM-0RfIUs"
      },
      "execution_count": null,
      "outputs": []
    },
    {
      "cell_type": "code",
      "source": [
        "y_preds_compound = X_test.apply(lambda x: untuned_analyser.polarity_scores(x)['compound'])\n",
        "y_preds_label = []\n",
        "for vader_score in y_preds_compound:\n",
        "  if vader_score > threshold:\n",
        "    y_preds_label.append('positive')\n",
        "  elif vader_score < -threshold:\n",
        "    y_preds_label.append('negative')\n",
        "  else:\n",
        "    y_preds_label.append('neutral')\n",
        "\n",
        "from sklearn.metrics import classification_report\n",
        "print(\"Untuned Vader Sentiment Scores\")\n",
        "print(classification_report(y_test, y_preds_label))"
      ],
      "metadata": {
        "colab": {
          "base_uri": "https://localhost:8080/"
        },
        "id": "nWbYcXEIfISR",
        "outputId": "498f847b-502b-4fd7-f915-b3736b610b9e"
      },
      "execution_count": null,
      "outputs": [
        {
          "output_type": "stream",
          "name": "stdout",
          "text": [
            "Untuned Vader Sentiment Scores\n",
            "              precision    recall  f1-score   support\n",
            "\n",
            "    negative       0.56      0.50      0.53       337\n",
            "     neutral       0.42      0.49      0.45       322\n",
            "    positive       0.50      0.47      0.49       416\n",
            "\n",
            "    accuracy                           0.49      1075\n",
            "   macro avg       0.49      0.49      0.49      1075\n",
            "weighted avg       0.49      0.49      0.49      1075\n",
            "\n"
          ]
        }
      ]
    },
    {
      "cell_type": "code",
      "source": [
        "import time\n",
        "t1 = time.perf_counter()\n",
        "\n",
        "inference_predictions = inference['comment'].apply(lambda x: untuned_analyser.polarity_scores(x)['compound'])\n",
        "\n",
        "t2 = time.perf_counter()\n",
        "print('time taken to run:',t2-t1)"
      ],
      "metadata": {
        "id": "TbajU6qB7FaQ",
        "colab": {
          "base_uri": "https://localhost:8080/"
        },
        "outputId": "59dcdb6d-df7d-4398-a9ab-cc0a756905b9"
      },
      "execution_count": null,
      "outputs": [
        {
          "output_type": "stream",
          "name": "stdout",
          "text": [
            "time taken to run: 2.0619974580004055\n"
          ]
        }
      ]
    },
    {
      "cell_type": "code",
      "source": [
        "print(inference_predictions[:5])\n",
        "len(inference_predictions)\n"
      ],
      "metadata": {
        "colab": {
          "base_uri": "https://localhost:8080/"
        },
        "id": "Cnq_Gvw6LqqJ",
        "outputId": "73e612b2-69fd-469c-fb7b-e5401226118e"
      },
      "execution_count": null,
      "outputs": [
        {
          "output_type": "stream",
          "name": "stdout",
          "text": [
            "0    0.9014\n",
            "1    0.5093\n",
            "2   -0.8467\n",
            "3    0.0000\n",
            "4   -0.3182\n",
            "Name: comment, dtype: float64\n"
          ]
        },
        {
          "output_type": "execute_result",
          "data": {
            "text/plain": [
              "18676"
            ]
          },
          "metadata": {},
          "execution_count": 28
        }
      ]
    },
    {
      "cell_type": "code",
      "source": [
        ""
      ],
      "metadata": {
        "id": "FD7NwucRLu2v"
      },
      "execution_count": null,
      "outputs": []
    }
  ]
}